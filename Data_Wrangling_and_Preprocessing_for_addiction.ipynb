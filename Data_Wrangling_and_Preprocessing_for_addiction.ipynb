{
 "cells": [
  {
   "cell_type": "markdown",
   "metadata": {
    "id": "bpZdfEKxHQSY"
   },
   "source": [
    "# Data Wrangling for addiction data set"
   ]
  },
  {
   "cell_type": "markdown",
   "metadata": {
    "id": "0qb7Fb_5ko3i"
   },
   "source": []
  },
  {
   "cell_type": "code",
   "execution_count": 1,
   "metadata": {
    "id": "1dAhbQLYHQSd"
   },
   "outputs": [],
   "source": [
    "import pandas as pd\n",
    "import numpy as np\n",
    "from sklearn.preprocessing import OrdinalEncoder, StandardScaler\n",
    "from sklearn.impute import SimpleImputer\n",
    "\n",
    "\n",
    "filename = \"mobile_addiction.csv\""
   ]
  },
  {
   "cell_type": "code",
   "execution_count": 2,
   "metadata": {
    "id": "jh1U2i2LHQSd"
   },
   "outputs": [],
   "source": [
    "# Python list headers containing name of headers\n",
    "headers = [\n",
    "    \"Unnamed: 0\",\n",
    "    \"daily_screen_time\",\n",
    "    \"app_sessions\",\n",
    "    \"social_media_usage\",\n",
    "    \"gaming_time\",\n",
    "    \"notifications\",\n",
    "    \"night_usage\",\n",
    "    \"age\",\n",
    "    \"work_study_hours\",\n",
    "    \"stress_level\",\n",
    "    \"apps_installed\",\n",
    "    \"addicted\"\n",
    "]\n"
   ]
  },
  {
   "cell_type": "code",
   "execution_count": 3,
   "metadata": {
    "id": "AA9IN1MMHQSd",
    "jupyter": {
     "outputs_hidden": false
    }
   },
   "outputs": [],
   "source": [
    "# Pandas method read_csv() to load the data\n",
    "# Set the parameter \"names\"\n",
    "\n",
    "original = pd.read_csv(filename)\n",
    "df = original.copy()"
   ]
  },
  {
   "cell_type": "code",
   "execution_count": 4,
   "metadata": {
    "colab": {
     "base_uri": "https://localhost:8080/",
     "height": 258
    },
    "id": "c8_raM3jHQSe",
    "jupyter": {
     "outputs_hidden": false
    },
    "outputId": "dbec1a80-4c5f-4224-a9b4-12a00a1d1f4a"
   },
   "outputs": [
    {
     "data": {
      "text/html": [
       "<div>\n",
       "<style scoped>\n",
       "    .dataframe tbody tr th:only-of-type {\n",
       "        vertical-align: middle;\n",
       "    }\n",
       "\n",
       "    .dataframe tbody tr th {\n",
       "        vertical-align: top;\n",
       "    }\n",
       "\n",
       "    .dataframe thead th {\n",
       "        text-align: right;\n",
       "    }\n",
       "</style>\n",
       "<table border=\"1\" class=\"dataframe\">\n",
       "  <thead>\n",
       "    <tr style=\"text-align: right;\">\n",
       "      <th></th>\n",
       "      <th>daily_screen_time</th>\n",
       "      <th>app_sessions</th>\n",
       "      <th>social_media_usage</th>\n",
       "      <th>gaming_time</th>\n",
       "      <th>notifications</th>\n",
       "      <th>night_usage</th>\n",
       "      <th>age</th>\n",
       "      <th>work_study_hours</th>\n",
       "      <th>stress_level</th>\n",
       "      <th>apps_installed</th>\n",
       "      <th>addicted</th>\n",
       "    </tr>\n",
       "  </thead>\n",
       "  <tbody>\n",
       "    <tr>\n",
       "      <th>0</th>\n",
       "      <td>2</td>\n",
       "      <td>29</td>\n",
       "      <td>0</td>\n",
       "      <td>0</td>\n",
       "      <td>49</td>\n",
       "      <td>0</td>\n",
       "      <td>44</td>\n",
       "      <td>5</td>\n",
       "      <td>3</td>\n",
       "      <td>35</td>\n",
       "      <td>not addicted</td>\n",
       "    </tr>\n",
       "    <tr>\n",
       "      <th>1</th>\n",
       "      <td>6</td>\n",
       "      <td>29</td>\n",
       "      <td>1</td>\n",
       "      <td>2</td>\n",
       "      <td>65</td>\n",
       "      <td>1</td>\n",
       "      <td>29</td>\n",
       "      <td>5</td>\n",
       "      <td>9</td>\n",
       "      <td>21</td>\n",
       "      <td>addicted</td>\n",
       "    </tr>\n",
       "    <tr>\n",
       "      <th>2</th>\n",
       "      <td>9</td>\n",
       "      <td>28</td>\n",
       "      <td>2</td>\n",
       "      <td>0</td>\n",
       "      <td>57</td>\n",
       "      <td>3</td>\n",
       "      <td>28</td>\n",
       "      <td>7</td>\n",
       "      <td>5</td>\n",
       "      <td>39</td>\n",
       "      <td>addicted</td>\n",
       "    </tr>\n",
       "    <tr>\n",
       "      <th>3</th>\n",
       "      <td>6</td>\n",
       "      <td>39</td>\n",
       "      <td>2</td>\n",
       "      <td>0</td>\n",
       "      <td>69</td>\n",
       "      <td>1</td>\n",
       "      <td>28</td>\n",
       "      <td>6</td>\n",
       "      <td>8</td>\n",
       "      <td>24</td>\n",
       "      <td>addicted</td>\n",
       "    </tr>\n",
       "    <tr>\n",
       "      <th>4</th>\n",
       "      <td>5</td>\n",
       "      <td>37</td>\n",
       "      <td>3</td>\n",
       "      <td>1</td>\n",
       "      <td>64</td>\n",
       "      <td>2</td>\n",
       "      <td>27</td>\n",
       "      <td>4</td>\n",
       "      <td>5</td>\n",
       "      <td>26</td>\n",
       "      <td>addicted</td>\n",
       "    </tr>\n",
       "  </tbody>\n",
       "</table>\n",
       "</div>"
      ],
      "text/plain": [
       "   daily_screen_time  app_sessions  social_media_usage  gaming_time  \\\n",
       "0                  2            29                   0            0   \n",
       "1                  6            29                   1            2   \n",
       "2                  9            28                   2            0   \n",
       "3                  6            39                   2            0   \n",
       "4                  5            37                   3            1   \n",
       "\n",
       "   notifications  night_usage  age  work_study_hours  stress_level  \\\n",
       "0             49            0   44                 5             3   \n",
       "1             65            1   29                 5             9   \n",
       "2             57            3   28                 7             5   \n",
       "3             69            1   28                 6             8   \n",
       "4             64            2   27                 4             5   \n",
       "\n",
       "   apps_installed      addicted  \n",
       "0              35  not addicted  \n",
       "1              21      addicted  \n",
       "2              39      addicted  \n",
       "3              24      addicted  \n",
       "4              26      addicted  "
      ]
     },
     "execution_count": 4,
     "metadata": {},
     "output_type": "execute_result"
    }
   ],
   "source": [
    "# To see what the data set looks like, we'll use the head() method.\n",
    "\n",
    "\n",
    "  # the first five rows of the dataframe.\n",
    "df.drop(columns=[\"Unnamed: 0\"], inplace=True)\n",
    "df.head()\n",
    "# Drop the ID column as it is not needed for analysis"
   ]
  },
  {
   "cell_type": "code",
   "execution_count": 5,
   "metadata": {
    "colab": {
     "base_uri": "https://localhost:8080/"
    },
    "id": "vCeThwGebH_z",
    "outputId": "816cb4d7-8fae-4d2e-8d7e-5eb7e4c33ce6"
   },
   "outputs": [
    {
     "name": "stdout",
     "output_type": "stream",
     "text": [
      "(13589, 11)\n",
      "149479\n",
      "daily_screen_time      int64\n",
      "app_sessions           int64\n",
      "social_media_usage     int64\n",
      "gaming_time            int64\n",
      "notifications          int64\n",
      "night_usage            int64\n",
      "age                    int64\n",
      "work_study_hours       int64\n",
      "stress_level           int64\n",
      "apps_installed         int64\n",
      "addicted              object\n",
      "dtype: object\n"
     ]
    }
   ],
   "source": [
    "print(df.shape)\n",
    "print(df.size)\n",
    "print(df.dtypes)\n",
    "\n",
    "num_cols = df.select_dtypes(include=[np.number]).columns.tolist()\n",
    "cat_cols = df.select_dtypes(exclude=[np.number]).columns.tolist()\n"
   ]
  },
  {
   "cell_type": "code",
   "execution_count": 6,
   "metadata": {
    "colab": {
     "base_uri": "https://localhost:8080/",
     "height": 241
    },
    "id": "4BCEvNMnH-d_",
    "outputId": "333d7d58-1a29-41f2-c27c-c6ae0cb9360f"
   },
   "outputs": [
    {
     "data": {
      "text/html": [
       "<div>\n",
       "<style scoped>\n",
       "    .dataframe tbody tr th:only-of-type {\n",
       "        vertical-align: middle;\n",
       "    }\n",
       "\n",
       "    .dataframe tbody tr th {\n",
       "        vertical-align: top;\n",
       "    }\n",
       "\n",
       "    .dataframe thead th {\n",
       "        text-align: right;\n",
       "    }\n",
       "</style>\n",
       "<table border=\"1\" class=\"dataframe\">\n",
       "  <thead>\n",
       "    <tr style=\"text-align: right;\">\n",
       "      <th></th>\n",
       "      <th>daily_screen_time</th>\n",
       "      <th>app_sessions</th>\n",
       "      <th>social_media_usage</th>\n",
       "      <th>gaming_time</th>\n",
       "      <th>notifications</th>\n",
       "      <th>night_usage</th>\n",
       "      <th>age</th>\n",
       "      <th>work_study_hours</th>\n",
       "      <th>stress_level</th>\n",
       "      <th>apps_installed</th>\n",
       "      <th>addicted</th>\n",
       "    </tr>\n",
       "  </thead>\n",
       "  <tbody>\n",
       "    <tr>\n",
       "      <th>0</th>\n",
       "      <td>2</td>\n",
       "      <td>29</td>\n",
       "      <td>0</td>\n",
       "      <td>0</td>\n",
       "      <td>49</td>\n",
       "      <td>0</td>\n",
       "      <td>44</td>\n",
       "      <td>5</td>\n",
       "      <td>3</td>\n",
       "      <td>35</td>\n",
       "      <td>0.0</td>\n",
       "    </tr>\n",
       "    <tr>\n",
       "      <th>1</th>\n",
       "      <td>6</td>\n",
       "      <td>29</td>\n",
       "      <td>1</td>\n",
       "      <td>2</td>\n",
       "      <td>65</td>\n",
       "      <td>1</td>\n",
       "      <td>29</td>\n",
       "      <td>5</td>\n",
       "      <td>9</td>\n",
       "      <td>21</td>\n",
       "      <td>1.0</td>\n",
       "    </tr>\n",
       "    <tr>\n",
       "      <th>2</th>\n",
       "      <td>9</td>\n",
       "      <td>28</td>\n",
       "      <td>2</td>\n",
       "      <td>0</td>\n",
       "      <td>57</td>\n",
       "      <td>3</td>\n",
       "      <td>28</td>\n",
       "      <td>7</td>\n",
       "      <td>5</td>\n",
       "      <td>39</td>\n",
       "      <td>1.0</td>\n",
       "    </tr>\n",
       "    <tr>\n",
       "      <th>3</th>\n",
       "      <td>6</td>\n",
       "      <td>39</td>\n",
       "      <td>2</td>\n",
       "      <td>0</td>\n",
       "      <td>69</td>\n",
       "      <td>1</td>\n",
       "      <td>28</td>\n",
       "      <td>6</td>\n",
       "      <td>8</td>\n",
       "      <td>24</td>\n",
       "      <td>1.0</td>\n",
       "    </tr>\n",
       "    <tr>\n",
       "      <th>4</th>\n",
       "      <td>5</td>\n",
       "      <td>37</td>\n",
       "      <td>3</td>\n",
       "      <td>1</td>\n",
       "      <td>64</td>\n",
       "      <td>2</td>\n",
       "      <td>27</td>\n",
       "      <td>4</td>\n",
       "      <td>5</td>\n",
       "      <td>26</td>\n",
       "      <td>1.0</td>\n",
       "    </tr>\n",
       "  </tbody>\n",
       "</table>\n",
       "</div>"
      ],
      "text/plain": [
       "   daily_screen_time  app_sessions  social_media_usage  gaming_time  \\\n",
       "0                  2            29                   0            0   \n",
       "1                  6            29                   1            2   \n",
       "2                  9            28                   2            0   \n",
       "3                  6            39                   2            0   \n",
       "4                  5            37                   3            1   \n",
       "\n",
       "   notifications  night_usage  age  work_study_hours  stress_level  \\\n",
       "0             49            0   44                 5             3   \n",
       "1             65            1   29                 5             9   \n",
       "2             57            3   28                 7             5   \n",
       "3             69            1   28                 6             8   \n",
       "4             64            2   27                 4             5   \n",
       "\n",
       "   apps_installed  addicted  \n",
       "0              35       0.0  \n",
       "1              21       1.0  \n",
       "2              39       1.0  \n",
       "3              24       1.0  \n",
       "4              26       1.0  "
      ]
     },
     "execution_count": 6,
     "metadata": {},
     "output_type": "execute_result"
    }
   ],
   "source": [
    "ordinal_encoder = OrdinalEncoder(categories=[['not addicted', 'addicted']])\n",
    "Category_encoded = ordinal_encoder.fit_transform(df[['addicted']])\n",
    "df['addicted'] = Category_encoded\n",
    "df.head()"
   ]
  },
  {
   "cell_type": "code",
   "execution_count": null,
   "metadata": {
    "id": "Kv6W7v7puyM1"
   },
   "outputs": [],
   "source": []
  },
  {
   "cell_type": "markdown",
   "metadata": {
    "id": "e8160f8f-1211-434e-bc08-c99b0cc4a478"
   },
   "source": [
    "## **Preprocess Data**"
   ]
  },
  {
   "cell_type": "markdown",
   "metadata": {
    "id": "816b4a37-060e-4a4f-8f83-1e6c64427170"
   },
   "source": [
    "Data is already mostly preprocessed. Just Preform some imputation and Standardization (Not Normalization)\n",
    "Notice that the transformed data is actually stored in variables other than data (data_num_scaled, data_cat_scaled). This is because we will change the original data in the pipelining portion"
   ]
  },
  {
   "cell_type": "code",
   "execution_count": 7,
   "metadata": {
    "colab": {
     "base_uri": "https://localhost:8080/"
    },
    "id": "Z4lbS0abKeea",
    "outputId": "4372b124-ab3a-42cb-8069-bfd6e7a2ff20"
   },
   "outputs": [
    {
     "name": "stdout",
     "output_type": "stream",
     "text": [
      "Missing values (should be 0):\n",
      " daily_screen_time     0\n",
      "app_sessions          0\n",
      "social_media_usage    0\n",
      "gaming_time           0\n",
      "notifications         0\n",
      "night_usage           0\n",
      "age                   0\n",
      "work_study_hours      0\n",
      "stress_level          0\n",
      "apps_installed        0\n",
      "addicted              0\n",
      "dtype: int64\n"
     ]
    }
   ],
   "source": [
    "print(\"Missing values (should be 0):\\n\", df.isnull().sum())"
   ]
  },
  {
   "cell_type": "code",
   "execution_count": 8,
   "metadata": {
    "ExecuteTime": {
     "end_time": "2025-05-02T21:42:15.995113Z",
     "start_time": "2025-05-02T21:42:15.969489Z"
    },
    "id": "b84de9d53f7610ad"
   },
   "outputs": [],
   "source": [
    "\n",
    "data_num = df[num_cols]\n",
    "data_cat = df[cat_cols]\n",
    "\n",
    "imputer_num = SimpleImputer(strategy='median')\n",
    "data_num_imputed = imputer_num.fit_transform(data_num)\n",
    "\n",
    "imputer_cat = SimpleImputer(strategy='most_frequent')\n",
    "data_cat_imputed = imputer_cat.fit_transform(data_cat)\n"
   ]
  },
  {
   "cell_type": "code",
   "execution_count": 9,
   "metadata": {
    "id": "5bPfD_LU9OCk"
   },
   "outputs": [],
   "source": [
    "from sklearn.preprocessing import StandardScaler\n",
    "scaler = StandardScaler()\n",
    "data_num_scaled = scaler.fit_transform(data_num_imputed)\n"
   ]
  },
  {
   "cell_type": "code",
   "execution_count": 10,
   "metadata": {},
   "outputs": [],
   "source": [
    "df_num_scaled = pd.DataFrame(data_num_scaled, columns=num_cols)\n",
    "df_cat_imputed = pd.DataFrame(data_cat_imputed, columns=cat_cols)\n",
    "\n",
    "# Combine numeric and categorical data\n",
    "df_final = pd.concat([df_num_scaled, df_cat_imputed], axis=1)\n",
    "\n",
    "# Optional: Restore original column order (if necessary)\n",
    "df_final = df_final[df.columns]"
   ]
  },
  {
   "cell_type": "code",
   "execution_count": 11,
   "metadata": {
    "ExecuteTime": {
     "end_time": "2025-05-02T21:42:16.041065Z",
     "start_time": "2025-05-02T21:42:16.005527Z"
    },
    "colab": {
     "base_uri": "https://localhost:8080/",
     "height": 317
    },
    "id": "bf0ede1ada1e23a4",
    "outputId": "686eef20-41ce-4f74-8c11-922c5892439d"
   },
   "outputs": [
    {
     "data": {
      "text/html": [
       "<div>\n",
       "<style scoped>\n",
       "    .dataframe tbody tr th:only-of-type {\n",
       "        vertical-align: middle;\n",
       "    }\n",
       "\n",
       "    .dataframe tbody tr th {\n",
       "        vertical-align: top;\n",
       "    }\n",
       "\n",
       "    .dataframe thead th {\n",
       "        text-align: right;\n",
       "    }\n",
       "</style>\n",
       "<table border=\"1\" class=\"dataframe\">\n",
       "  <thead>\n",
       "    <tr style=\"text-align: right;\">\n",
       "      <th></th>\n",
       "      <th>daily_screen_time</th>\n",
       "      <th>app_sessions</th>\n",
       "      <th>social_media_usage</th>\n",
       "      <th>gaming_time</th>\n",
       "      <th>notifications</th>\n",
       "      <th>night_usage</th>\n",
       "      <th>age</th>\n",
       "      <th>work_study_hours</th>\n",
       "      <th>stress_level</th>\n",
       "      <th>apps_installed</th>\n",
       "      <th>addicted</th>\n",
       "    </tr>\n",
       "  </thead>\n",
       "  <tbody>\n",
       "    <tr>\n",
       "      <th>count</th>\n",
       "      <td>1.358900e+04</td>\n",
       "      <td>1.358900e+04</td>\n",
       "      <td>1.358900e+04</td>\n",
       "      <td>1.358900e+04</td>\n",
       "      <td>1.358900e+04</td>\n",
       "      <td>1.358900e+04</td>\n",
       "      <td>1.358900e+04</td>\n",
       "      <td>1.358900e+04</td>\n",
       "      <td>1.358900e+04</td>\n",
       "      <td>1.358900e+04</td>\n",
       "      <td>13589.000000</td>\n",
       "    </tr>\n",
       "    <tr>\n",
       "      <th>mean</th>\n",
       "      <td>-9.411855e-17</td>\n",
       "      <td>-1.691519e-16</td>\n",
       "      <td>5.647113e-17</td>\n",
       "      <td>7.790924e-17</td>\n",
       "      <td>1.192168e-16</td>\n",
       "      <td>-5.647113e-17</td>\n",
       "      <td>4.392199e-17</td>\n",
       "      <td>9.856303e-17</td>\n",
       "      <td>1.450994e-17</td>\n",
       "      <td>-2.284989e-16</td>\n",
       "      <td>0.503790</td>\n",
       "    </tr>\n",
       "    <tr>\n",
       "      <th>std</th>\n",
       "      <td>1.000037e+00</td>\n",
       "      <td>1.000037e+00</td>\n",
       "      <td>1.000037e+00</td>\n",
       "      <td>1.000037e+00</td>\n",
       "      <td>1.000037e+00</td>\n",
       "      <td>1.000037e+00</td>\n",
       "      <td>1.000037e+00</td>\n",
       "      <td>1.000037e+00</td>\n",
       "      <td>1.000037e+00</td>\n",
       "      <td>1.000037e+00</td>\n",
       "      <td>0.500004</td>\n",
       "    </tr>\n",
       "    <tr>\n",
       "      <th>min</th>\n",
       "      <td>-1.986138e+00</td>\n",
       "      <td>-2.975516e+00</td>\n",
       "      <td>-1.283179e+00</td>\n",
       "      <td>-1.041367e+00</td>\n",
       "      <td>-2.750269e+00</td>\n",
       "      <td>-1.046105e+00</td>\n",
       "      <td>-1.784553e+00</td>\n",
       "      <td>-2.886124e+00</td>\n",
       "      <td>-1.863898e+00</td>\n",
       "      <td>-2.974269e+00</td>\n",
       "      <td>0.000000</td>\n",
       "    </tr>\n",
       "    <tr>\n",
       "      <th>25%</th>\n",
       "      <td>-9.319584e-01</td>\n",
       "      <td>-6.801770e-01</td>\n",
       "      <td>-4.531563e-01</td>\n",
       "      <td>-1.041367e+00</td>\n",
       "      <td>-7.866498e-01</td>\n",
       "      <td>-1.046105e+00</td>\n",
       "      <td>-7.961937e-01</td>\n",
       "      <td>-4.721980e-01</td>\n",
       "      <td>-5.529212e-01</td>\n",
       "      <td>-7.688509e-01</td>\n",
       "      <td>0.000000</td>\n",
       "    </tr>\n",
       "    <tr>\n",
       "      <th>50%</th>\n",
       "      <td>1.222209e-01</td>\n",
       "      <td>-5.077283e-03</td>\n",
       "      <td>-4.531563e-01</td>\n",
       "      <td>-3.445536e-02</td>\n",
       "      <td>-7.974700e-02</td>\n",
       "      <td>1.033977e-02</td>\n",
       "      <td>-5.505838e-03</td>\n",
       "      <td>1.058724e-02</td>\n",
       "      <td>-1.159289e-01</td>\n",
       "      <td>-9.026065e-02</td>\n",
       "      <td>1.000000</td>\n",
       "    </tr>\n",
       "    <tr>\n",
       "      <th>75%</th>\n",
       "      <td>6.493105e-01</td>\n",
       "      <td>6.700225e-01</td>\n",
       "      <td>3.768668e-01</td>\n",
       "      <td>9.724562e-01</td>\n",
       "      <td>7.842453e-01</td>\n",
       "      <td>1.066785e+00</td>\n",
       "      <td>7.851820e-01</td>\n",
       "      <td>4.933725e-01</td>\n",
       "      <td>7.580558e-01</td>\n",
       "      <td>5.883296e-01</td>\n",
       "      <td>1.000000</td>\n",
       "    </tr>\n",
       "    <tr>\n",
       "      <th>max</th>\n",
       "      <td>4.338938e+00</td>\n",
       "      <td>4.045521e+00</td>\n",
       "      <td>4.526982e+00</td>\n",
       "      <td>5.000102e+00</td>\n",
       "      <td>3.376222e+00</td>\n",
       "      <td>5.292564e+00</td>\n",
       "      <td>2.168886e+00</td>\n",
       "      <td>3.872869e+00</td>\n",
       "      <td>2.506025e+00</td>\n",
       "      <td>4.659871e+00</td>\n",
       "      <td>1.000000</td>\n",
       "    </tr>\n",
       "  </tbody>\n",
       "</table>\n",
       "</div>"
      ],
      "text/plain": [
       "       daily_screen_time  app_sessions  social_media_usage   gaming_time  \\\n",
       "count       1.358900e+04  1.358900e+04        1.358900e+04  1.358900e+04   \n",
       "mean       -9.411855e-17 -1.691519e-16        5.647113e-17  7.790924e-17   \n",
       "std         1.000037e+00  1.000037e+00        1.000037e+00  1.000037e+00   \n",
       "min        -1.986138e+00 -2.975516e+00       -1.283179e+00 -1.041367e+00   \n",
       "25%        -9.319584e-01 -6.801770e-01       -4.531563e-01 -1.041367e+00   \n",
       "50%         1.222209e-01 -5.077283e-03       -4.531563e-01 -3.445536e-02   \n",
       "75%         6.493105e-01  6.700225e-01        3.768668e-01  9.724562e-01   \n",
       "max         4.338938e+00  4.045521e+00        4.526982e+00  5.000102e+00   \n",
       "\n",
       "       notifications   night_usage           age  work_study_hours  \\\n",
       "count   1.358900e+04  1.358900e+04  1.358900e+04      1.358900e+04   \n",
       "mean    1.192168e-16 -5.647113e-17  4.392199e-17      9.856303e-17   \n",
       "std     1.000037e+00  1.000037e+00  1.000037e+00      1.000037e+00   \n",
       "min    -2.750269e+00 -1.046105e+00 -1.784553e+00     -2.886124e+00   \n",
       "25%    -7.866498e-01 -1.046105e+00 -7.961937e-01     -4.721980e-01   \n",
       "50%    -7.974700e-02  1.033977e-02 -5.505838e-03      1.058724e-02   \n",
       "75%     7.842453e-01  1.066785e+00  7.851820e-01      4.933725e-01   \n",
       "max     3.376222e+00  5.292564e+00  2.168886e+00      3.872869e+00   \n",
       "\n",
       "       stress_level  apps_installed      addicted  \n",
       "count  1.358900e+04    1.358900e+04  13589.000000  \n",
       "mean   1.450994e-17   -2.284989e-16      0.503790  \n",
       "std    1.000037e+00    1.000037e+00      0.500004  \n",
       "min   -1.863898e+00   -2.974269e+00      0.000000  \n",
       "25%   -5.529212e-01   -7.688509e-01      0.000000  \n",
       "50%   -1.159289e-01   -9.026065e-02      1.000000  \n",
       "75%    7.580558e-01    5.883296e-01      1.000000  \n",
       "max    2.506025e+00    4.659871e+00      1.000000  "
      ]
     },
     "execution_count": 11,
     "metadata": {},
     "output_type": "execute_result"
    }
   ],
   "source": [
    "\n",
    "df_final.describe()"
   ]
  },
  {
   "cell_type": "code",
   "execution_count": null,
   "metadata": {
    "id": "NP1bXz2D6X0b"
   },
   "outputs": [],
   "source": []
  },
  {
   "cell_type": "code",
   "execution_count": 12,
   "metadata": {
    "colab": {
     "base_uri": "https://localhost:8080/"
    },
    "id": "0wWsJVI1LUd9",
    "outputId": "c92762c4-ff1d-4495-eb86-d1b5c2e7f3ce"
   },
   "outputs": [
    {
     "name": "stdout",
     "output_type": "stream",
     "text": [
      "Missing values per column:\n",
      " daily_screen_time     0\n",
      "app_sessions          0\n",
      "social_media_usage    0\n",
      "gaming_time           0\n",
      "notifications         0\n",
      "night_usage           0\n",
      "age                   0\n",
      "work_study_hours      0\n",
      "stress_level          0\n",
      "apps_installed        0\n",
      "addicted              0\n",
      "dtype: int64\n"
     ]
    }
   ],
   "source": [
    "print(\"Missing values per column:\\n\", df_final.isnull().sum())\n",
    "df_final.to_csv(\"addiction after scaling and imputation.csv\", index=False)"
   ]
  },
  {
   "cell_type": "markdown",
   "metadata": {
    "id": "1vHU1ktdHQTP"
   },
   "source": [
    "<hr>\n",
    "<p>Copyright &copy; 2018 IBM Developer Skills Network. This notebook and its source code are released under the terms of the <a href=\"https://cognitiveclass.ai/mit-license/\">MIT License</a>.</p>"
   ]
  }
 ],
 "metadata": {
  "anaconda-cloud": {},
  "colab": {
   "provenance": []
  },
  "kernelspec": {
   "display_name": "Python 3",
   "language": "python",
   "name": "python3"
  },
  "language_info": {
   "codemirror_mode": {
    "name": "ipython",
    "version": 3
   },
   "file_extension": ".py",
   "mimetype": "text/x-python",
   "name": "python",
   "nbconvert_exporter": "python",
   "pygments_lexer": "ipython3",
   "version": "3.13.2"
  }
 },
 "nbformat": 4,
 "nbformat_minor": 0
}
